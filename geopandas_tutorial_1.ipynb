{
  "nbformat": 4,
  "nbformat_minor": 0,
  "metadata": {
    "colab": {
      "name": "Untitled2.ipynb",
      "provenance": [],
      "mount_file_id": "1n4rrcXTPEKY9D5kLE30X10o74YJ-IaTx",
      "authorship_tag": "ABX9TyMBbETGOLhXdU5cbl7MKzx4",
      "include_colab_link": true
    },
    "kernelspec": {
      "name": "python3",
      "display_name": "Python 3"
    },
    "language_info": {
      "name": "python"
    }
  },
  "cells": [
    {
      "cell_type": "markdown",
      "metadata": {
        "id": "view-in-github",
        "colab_type": "text"
      },
      "source": [
        "<a href=\"https://colab.research.google.com/github/mrsferret/Food-Poverty-Project/blob/main/geopandas_tutorial_1.ipynb\" target=\"_parent\"><img src=\"https://colab.research.google.com/assets/colab-badge.svg\" alt=\"Open In Colab\"/></a>"
      ]
    },
    {
      "cell_type": "code",
      "source": [
        "# first install geopandas\n",
        "% pip install geopandas"
      ],
      "metadata": {
        "colab": {
          "base_uri": "https://localhost:8080/"
        },
        "id": "zypX6EKdMpqx",
        "outputId": "14f78637-edc7-4cab-d206-abeeebcbcda0"
      },
      "execution_count": 3,
      "outputs": [
        {
          "output_type": "stream",
          "name": "stdout",
          "text": [
            "Collecting geopandas\n",
            "  Downloading geopandas-0.10.2-py2.py3-none-any.whl (1.0 MB)\n",
            "\u001b[?25l\r\u001b[K     |▎                               | 10 kB 26.2 MB/s eta 0:00:01\r\u001b[K     |▋                               | 20 kB 14.9 MB/s eta 0:00:01\r\u001b[K     |█                               | 30 kB 10.5 MB/s eta 0:00:01\r\u001b[K     |█▎                              | 40 kB 9.1 MB/s eta 0:00:01\r\u001b[K     |█▋                              | 51 kB 4.3 MB/s eta 0:00:01\r\u001b[K     |██                              | 61 kB 5.1 MB/s eta 0:00:01\r\u001b[K     |██▎                             | 71 kB 5.6 MB/s eta 0:00:01\r\u001b[K     |██▌                             | 81 kB 5.7 MB/s eta 0:00:01\r\u001b[K     |██▉                             | 92 kB 6.3 MB/s eta 0:00:01\r\u001b[K     |███▏                            | 102 kB 5.0 MB/s eta 0:00:01\r\u001b[K     |███▌                            | 112 kB 5.0 MB/s eta 0:00:01\r\u001b[K     |███▉                            | 122 kB 5.0 MB/s eta 0:00:01\r\u001b[K     |████▏                           | 133 kB 5.0 MB/s eta 0:00:01\r\u001b[K     |████▌                           | 143 kB 5.0 MB/s eta 0:00:01\r\u001b[K     |████▊                           | 153 kB 5.0 MB/s eta 0:00:01\r\u001b[K     |█████                           | 163 kB 5.0 MB/s eta 0:00:01\r\u001b[K     |█████▍                          | 174 kB 5.0 MB/s eta 0:00:01\r\u001b[K     |█████▊                          | 184 kB 5.0 MB/s eta 0:00:01\r\u001b[K     |██████                          | 194 kB 5.0 MB/s eta 0:00:01\r\u001b[K     |██████▍                         | 204 kB 5.0 MB/s eta 0:00:01\r\u001b[K     |██████▊                         | 215 kB 5.0 MB/s eta 0:00:01\r\u001b[K     |███████                         | 225 kB 5.0 MB/s eta 0:00:01\r\u001b[K     |███████▎                        | 235 kB 5.0 MB/s eta 0:00:01\r\u001b[K     |███████▋                        | 245 kB 5.0 MB/s eta 0:00:01\r\u001b[K     |████████                        | 256 kB 5.0 MB/s eta 0:00:01\r\u001b[K     |████████▎                       | 266 kB 5.0 MB/s eta 0:00:01\r\u001b[K     |████████▋                       | 276 kB 5.0 MB/s eta 0:00:01\r\u001b[K     |█████████                       | 286 kB 5.0 MB/s eta 0:00:01\r\u001b[K     |█████████▏                      | 296 kB 5.0 MB/s eta 0:00:01\r\u001b[K     |█████████▌                      | 307 kB 5.0 MB/s eta 0:00:01\r\u001b[K     |█████████▉                      | 317 kB 5.0 MB/s eta 0:00:01\r\u001b[K     |██████████▏                     | 327 kB 5.0 MB/s eta 0:00:01\r\u001b[K     |██████████▌                     | 337 kB 5.0 MB/s eta 0:00:01\r\u001b[K     |██████████▉                     | 348 kB 5.0 MB/s eta 0:00:01\r\u001b[K     |███████████▏                    | 358 kB 5.0 MB/s eta 0:00:01\r\u001b[K     |███████████▍                    | 368 kB 5.0 MB/s eta 0:00:01\r\u001b[K     |███████████▊                    | 378 kB 5.0 MB/s eta 0:00:01\r\u001b[K     |████████████                    | 389 kB 5.0 MB/s eta 0:00:01\r\u001b[K     |████████████▍                   | 399 kB 5.0 MB/s eta 0:00:01\r\u001b[K     |████████████▊                   | 409 kB 5.0 MB/s eta 0:00:01\r\u001b[K     |█████████████                   | 419 kB 5.0 MB/s eta 0:00:01\r\u001b[K     |█████████████▍                  | 430 kB 5.0 MB/s eta 0:00:01\r\u001b[K     |█████████████▋                  | 440 kB 5.0 MB/s eta 0:00:01\r\u001b[K     |██████████████                  | 450 kB 5.0 MB/s eta 0:00:01\r\u001b[K     |██████████████▎                 | 460 kB 5.0 MB/s eta 0:00:01\r\u001b[K     |██████████████▋                 | 471 kB 5.0 MB/s eta 0:00:01\r\u001b[K     |███████████████                 | 481 kB 5.0 MB/s eta 0:00:01\r\u001b[K     |███████████████▎                | 491 kB 5.0 MB/s eta 0:00:01\r\u001b[K     |███████████████▋                | 501 kB 5.0 MB/s eta 0:00:01\r\u001b[K     |███████████████▉                | 512 kB 5.0 MB/s eta 0:00:01\r\u001b[K     |████████████████▏               | 522 kB 5.0 MB/s eta 0:00:01\r\u001b[K     |████████████████▌               | 532 kB 5.0 MB/s eta 0:00:01\r\u001b[K     |████████████████▉               | 542 kB 5.0 MB/s eta 0:00:01\r\u001b[K     |█████████████████▏              | 552 kB 5.0 MB/s eta 0:00:01\r\u001b[K     |█████████████████▌              | 563 kB 5.0 MB/s eta 0:00:01\r\u001b[K     |█████████████████▉              | 573 kB 5.0 MB/s eta 0:00:01\r\u001b[K     |██████████████████              | 583 kB 5.0 MB/s eta 0:00:01\r\u001b[K     |██████████████████▍             | 593 kB 5.0 MB/s eta 0:00:01\r\u001b[K     |██████████████████▊             | 604 kB 5.0 MB/s eta 0:00:01\r\u001b[K     |███████████████████             | 614 kB 5.0 MB/s eta 0:00:01\r\u001b[K     |███████████████████▍            | 624 kB 5.0 MB/s eta 0:00:01\r\u001b[K     |███████████████████▊            | 634 kB 5.0 MB/s eta 0:00:01\r\u001b[K     |████████████████████            | 645 kB 5.0 MB/s eta 0:00:01\r\u001b[K     |████████████████████▎           | 655 kB 5.0 MB/s eta 0:00:01\r\u001b[K     |████████████████████▋           | 665 kB 5.0 MB/s eta 0:00:01\r\u001b[K     |█████████████████████           | 675 kB 5.0 MB/s eta 0:00:01\r\u001b[K     |█████████████████████▎          | 686 kB 5.0 MB/s eta 0:00:01\r\u001b[K     |█████████████████████▋          | 696 kB 5.0 MB/s eta 0:00:01\r\u001b[K     |██████████████████████          | 706 kB 5.0 MB/s eta 0:00:01\r\u001b[K     |██████████████████████▎         | 716 kB 5.0 MB/s eta 0:00:01\r\u001b[K     |██████████████████████▋         | 727 kB 5.0 MB/s eta 0:00:01\r\u001b[K     |██████████████████████▉         | 737 kB 5.0 MB/s eta 0:00:01\r\u001b[K     |███████████████████████▏        | 747 kB 5.0 MB/s eta 0:00:01\r\u001b[K     |███████████████████████▌        | 757 kB 5.0 MB/s eta 0:00:01\r\u001b[K     |███████████████████████▉        | 768 kB 5.0 MB/s eta 0:00:01\r\u001b[K     |████████████████████████▏       | 778 kB 5.0 MB/s eta 0:00:01\r\u001b[K     |████████████████████████▌       | 788 kB 5.0 MB/s eta 0:00:01\r\u001b[K     |████████████████████████▉       | 798 kB 5.0 MB/s eta 0:00:01\r\u001b[K     |█████████████████████████       | 808 kB 5.0 MB/s eta 0:00:01\r\u001b[K     |█████████████████████████▍      | 819 kB 5.0 MB/s eta 0:00:01\r\u001b[K     |█████████████████████████▊      | 829 kB 5.0 MB/s eta 0:00:01\r\u001b[K     |██████████████████████████      | 839 kB 5.0 MB/s eta 0:00:01\r\u001b[K     |██████████████████████████▍     | 849 kB 5.0 MB/s eta 0:00:01\r\u001b[K     |██████████████████████████▊     | 860 kB 5.0 MB/s eta 0:00:01\r\u001b[K     |███████████████████████████     | 870 kB 5.0 MB/s eta 0:00:01\r\u001b[K     |███████████████████████████▎    | 880 kB 5.0 MB/s eta 0:00:01\r\u001b[K     |███████████████████████████▋    | 890 kB 5.0 MB/s eta 0:00:01\r\u001b[K     |████████████████████████████    | 901 kB 5.0 MB/s eta 0:00:01\r\u001b[K     |████████████████████████████▎   | 911 kB 5.0 MB/s eta 0:00:01\r\u001b[K     |████████████████████████████▋   | 921 kB 5.0 MB/s eta 0:00:01\r\u001b[K     |█████████████████████████████   | 931 kB 5.0 MB/s eta 0:00:01\r\u001b[K     |█████████████████████████████▎  | 942 kB 5.0 MB/s eta 0:00:01\r\u001b[K     |█████████████████████████████▌  | 952 kB 5.0 MB/s eta 0:00:01\r\u001b[K     |█████████████████████████████▉  | 962 kB 5.0 MB/s eta 0:00:01\r\u001b[K     |██████████████████████████████▏ | 972 kB 5.0 MB/s eta 0:00:01\r\u001b[K     |██████████████████████████████▌ | 983 kB 5.0 MB/s eta 0:00:01\r\u001b[K     |██████████████████████████████▉ | 993 kB 5.0 MB/s eta 0:00:01\r\u001b[K     |███████████████████████████████▏| 1.0 MB 5.0 MB/s eta 0:00:01\r\u001b[K     |███████████████████████████████▌| 1.0 MB 5.0 MB/s eta 0:00:01\r\u001b[K     |███████████████████████████████▊| 1.0 MB 5.0 MB/s eta 0:00:01\r\u001b[K     |████████████████████████████████| 1.0 MB 5.0 MB/s \n",
            "\u001b[?25hRequirement already satisfied: pandas>=0.25.0 in /usr/local/lib/python3.7/dist-packages (from geopandas) (1.3.5)\n",
            "Collecting fiona>=1.8\n",
            "  Downloading Fiona-1.8.21-cp37-cp37m-manylinux2014_x86_64.whl (16.7 MB)\n",
            "\u001b[K     |████████████████████████████████| 16.7 MB 48.8 MB/s \n",
            "\u001b[?25hCollecting pyproj>=2.2.0\n",
            "  Downloading pyproj-3.2.1-cp37-cp37m-manylinux2010_x86_64.whl (6.3 MB)\n",
            "\u001b[K     |████████████████████████████████| 6.3 MB 51.4 MB/s \n",
            "\u001b[?25hRequirement already satisfied: shapely>=1.6 in /usr/local/lib/python3.7/dist-packages (from geopandas) (1.8.1.post1)\n",
            "Collecting click-plugins>=1.0\n",
            "  Downloading click_plugins-1.1.1-py2.py3-none-any.whl (7.5 kB)\n",
            "Collecting munch\n",
            "  Downloading munch-2.5.0-py2.py3-none-any.whl (10 kB)\n",
            "Requirement already satisfied: certifi in /usr/local/lib/python3.7/dist-packages (from fiona>=1.8->geopandas) (2021.10.8)\n",
            "Requirement already satisfied: attrs>=17 in /usr/local/lib/python3.7/dist-packages (from fiona>=1.8->geopandas) (21.4.0)\n",
            "Collecting cligj>=0.5\n",
            "  Downloading cligj-0.7.2-py3-none-any.whl (7.1 kB)\n",
            "Requirement already satisfied: setuptools in /usr/local/lib/python3.7/dist-packages (from fiona>=1.8->geopandas) (57.4.0)\n",
            "Requirement already satisfied: six>=1.7 in /usr/local/lib/python3.7/dist-packages (from fiona>=1.8->geopandas) (1.15.0)\n",
            "Requirement already satisfied: click>=4.0 in /usr/local/lib/python3.7/dist-packages (from fiona>=1.8->geopandas) (7.1.2)\n",
            "Requirement already satisfied: numpy>=1.17.3 in /usr/local/lib/python3.7/dist-packages (from pandas>=0.25.0->geopandas) (1.21.6)\n",
            "Requirement already satisfied: pytz>=2017.3 in /usr/local/lib/python3.7/dist-packages (from pandas>=0.25.0->geopandas) (2022.1)\n",
            "Requirement already satisfied: python-dateutil>=2.7.3 in /usr/local/lib/python3.7/dist-packages (from pandas>=0.25.0->geopandas) (2.8.2)\n",
            "Installing collected packages: munch, cligj, click-plugins, pyproj, fiona, geopandas\n",
            "Successfully installed click-plugins-1.1.1 cligj-0.7.2 fiona-1.8.21 geopandas-0.10.2 munch-2.5.0 pyproj-3.2.1\n"
          ]
        }
      ]
    },
    {
      "cell_type": "code",
      "execution_count": 9,
      "metadata": {
        "id": "XRv3BTldLJtr"
      },
      "outputs": [],
      "source": [
        "# load libraries\n",
        "%matplotlib inline\n",
        "import pandas as pd\n",
        "import numpy as np\n",
        "import matplotlib.pyplot as plt\n",
        "import geopandas as gpd"
      ]
    },
    {
      "cell_type": "code",
      "source": [
        "#upload and read shape file\n",
        "#from google.colab import files\n",
        "#import io\n",
        "\n",
        "#def get_data():\n",
        "  # upload a set of chosen files then read a specified file\n",
        "  #uploaded = files.upload()\n",
        "  #fp = \"datasets/geo-data/gis-boundaries-london/ESRI/London_Borough_Excluding_MHW.shp\"\n",
        "  #fp = \"/content/drive/MyDrive/Colab Notebooks/Test Data for using geopandas/London_Borough_Excluding_MHW copy.shp\"\n",
        "  #df = pd.read_excel(uploaded['public_use-talent-migration.xlsx'])\n",
        "  #return df\n",
        "  #print (uploaded)\n",
        "\n",
        "\n",
        "\n",
        "# run and test the get_data() function, test visually - does it match the data on the web page\n",
        "#get_data()\n",
        "# set the filepath and load in a shapefile\n",
        "#fp = \"content/drive/MyDrive/Colab Notebooks/Test Data for using geopandas/London_Borough_Excluding_MHW copy.shp\"\n",
        "\n",
        "#map_df = gpd.read_file(fp)\n",
        "map_df = gpd.read.file(\"London_Borough_Excluding_MHW copy.shp\")"
      ],
      "metadata": {
        "colab": {
          "base_uri": "https://localhost:8080/",
          "height": 200
        },
        "id": "ZUz9ZmeVNHit",
        "outputId": "74268ef4-e903-4de8-d9cc-c0025d5c66ad"
      },
      "execution_count": 10,
      "outputs": [
        {
          "output_type": "error",
          "ename": "AttributeError",
          "evalue": "ignored",
          "traceback": [
            "\u001b[0;31m---------------------------------------------------------------------------\u001b[0m",
            "\u001b[0;31mAttributeError\u001b[0m                            Traceback (most recent call last)",
            "\u001b[0;32m<ipython-input-10-22bef06c4272>\u001b[0m in \u001b[0;36m<module>\u001b[0;34m()\u001b[0m\n\u001b[1;32m     20\u001b[0m \u001b[0;34m\u001b[0m\u001b[0m\n\u001b[1;32m     21\u001b[0m \u001b[0;31m#map_df = gpd.read_file(fp)\u001b[0m\u001b[0;34m\u001b[0m\u001b[0;34m\u001b[0m\u001b[0;34m\u001b[0m\u001b[0m\n\u001b[0;32m---> 22\u001b[0;31m \u001b[0mmap_df\u001b[0m \u001b[0;34m=\u001b[0m \u001b[0mgpd\u001b[0m\u001b[0;34m.\u001b[0m\u001b[0mread\u001b[0m\u001b[0;34m.\u001b[0m\u001b[0mfile\u001b[0m\u001b[0;34m(\u001b[0m\u001b[0;34m\"London_Borough_Excluding_MHW copy.shp\"\u001b[0m\u001b[0;34m)\u001b[0m\u001b[0;34m\u001b[0m\u001b[0;34m\u001b[0m\u001b[0m\n\u001b[0m",
            "\u001b[0;31mAttributeError\u001b[0m: module 'geopandas' has no attribute 'read'"
          ]
        }
      ]
    }
  ]
}